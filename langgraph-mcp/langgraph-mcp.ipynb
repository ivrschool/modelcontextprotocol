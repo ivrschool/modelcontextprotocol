{
 "cells": [
  {
   "cell_type": "code",
   "execution_count": 2,
   "id": "86c41427",
   "metadata": {},
   "outputs": [
    {
     "data": {
      "text/plain": [
       "True"
      ]
     },
     "execution_count": 2,
     "metadata": {},
     "output_type": "execute_result"
    }
   ],
   "source": [
    "\n",
    "\n",
    "import dotenv\n",
    "from langgraph.prebuilt import ToolNode\n",
    "from langchain_core.messages import AIMessage\n",
    "from langchain_core.tools import tool\n",
    "dotenv.load_dotenv()"
   ]
  },
  {
   "cell_type": "code",
   "execution_count": 3,
   "id": "ade4d8e5",
   "metadata": {},
   "outputs": [],
   "source": [
    "from langchain_mcp_adapters.client import MultiServerMCPClient\n",
    "import asyncio\n",
    "async def mcp_tools_node():\n",
    "\n",
    "    client = MultiServerMCPClient({\n",
    "        \"agent\": {\n",
    "            \"transport\": \"streamable_http\", # \n",
    "            \"url\": \"http://localhost:2024/mcp\", # \n",
    "        }\n",
    "    })\n",
    "    tools = await client.get_tools() # \n",
    "\n",
    "    return tools\n"
   ]
  },
  {
   "cell_type": "code",
   "execution_count": 4,
   "id": "ad59210d",
   "metadata": {},
   "outputs": [
    {
     "name": "stdout",
     "output_type": "stream",
     "text": [
      "[StructuredTool(name='relationship_agent', description='A chat agent that helps in solving relationship problems. it takes input in string formate in natural language and returns a response in string formate in natural language.', args_schema={'properties': {'question': {'title': 'Question', 'type': 'string'}}, 'required': ['question'], 'title': 'InputState', 'type': 'object'}, response_format='content_and_artifact', coroutine=<function convert_mcp_tool_to_langchain_tool.<locals>.call_tool at 0x11a9fdee0>)]\n"
     ]
    }
   ],
   "source": [
    "tools = await mcp_tools_node()\n",
    "print(tools)"
   ]
  },
  {
   "cell_type": "code",
   "execution_count": 5,
   "id": "4001c409",
   "metadata": {},
   "outputs": [
    {
     "data": {
      "text/plain": [
       "('relationship_agent',\n",
       " 'A chat agent that helps in solving relationship problems. it takes input in string formate in natural language and returns a response in string formate in natural language.')"
      ]
     },
     "execution_count": 5,
     "metadata": {},
     "output_type": "execute_result"
    }
   ],
   "source": [
    "tools[0].name, tools[0].description"
   ]
  },
  {
   "cell_type": "code",
   "execution_count": 6,
   "id": "cdd28406",
   "metadata": {},
   "outputs": [],
   "source": [
    "#fix the description of the tool in .venv/lib/langgraph_api/api/mcp.py\n",
    "# tools.append(\n",
    "#     {\n",
    "#         \"name\": name,\n",
    "#         \"inputSchema\": schemas.get(\"input_schema\", {}),\n",
    "#         \"description\": assistant.get(\"description\", \"\"), #<- this should be updated like this\n",
    "#     },\n",
    "# )"
   ]
  },
  {
   "cell_type": "code",
   "execution_count": 26,
   "id": "e9e18c96",
   "metadata": {},
   "outputs": [
    {
     "data": {
      "text/plain": [
       "('relationship_agent',\n",
       " 'A chat agent that helps in solving relationship problems. it takes input in string formate in natural language and returns a response in string formate in natural language.')"
      ]
     },
     "execution_count": 26,
     "metadata": {},
     "output_type": "execute_result"
    }
   ],
   "source": [
    "tools[0].name, tools[0].description"
   ]
  },
  {
   "cell_type": "code",
   "execution_count": 29,
   "id": "de892efc",
   "metadata": {},
   "outputs": [
    {
     "name": "stdout",
     "output_type": "stream",
     "text": [
      "{'answer': 'This is a wonderful question to be asking, as it shows you\\'re invested in your partner\\'s well-being and the health of your relationship. True happiness in a partnership isn\\'t about grand gestures every day, but rather a consistent tapestry of understanding, respect, and thoughtful actions.\\n\\nHere\\'s a comprehensive guide on how to make your partner happy, from a relationship expert\\'s perspective:\\n\\n## The Golden Rule: Know Your Partner\\n\\nBefore diving into specific actions, the most crucial step is to **truly know your partner.** What makes *them* tick? What are *their* specific needs, desires, fears, and dreams? What are *their* \"love languages\"? (If you\\'re unfamiliar, look up Gary Chapman\\'s 5 Love Languages – Words of Affirmation, Quality Time, Receiving Gifts, Acts of Service, Physical Touch – it\\'s incredibly insightful for understanding how people prefer to give and receive love.)\\n\\nOnce you have that foundational understanding, the following strategies become even more powerful:\\n\\n---\\n\\n## Core Pillars of Partner Happiness:\\n\\n### 1. Master Thoughtful Communication\\n\\n*   **Listen Actively and Empathetically:** Don\\'t just wait for your turn to speak. Hear what they\\'re saying, both verbally and non-verbally. Ask clarifying questions (\"So, if I understand correctly, you\\'re feeling frustrated because...?\"). Validate their feelings, even if you don\\'t agree with their perspective (\"I can see why that would make you feel upset.\").\\n*   **Express Your Feelings Openly and Honestly:** Don\\'t expect them to read your mind. Share your thoughts, feelings, needs, and desires in a respectful way. Use \"I\" statements (\"I feel neglected when...\" rather than \"You always ignore me.\").\\n*   **Encourage Open Dialogue:** Create a safe space where they feel comfortable sharing anything with you, without fear of judgment, criticism, or immediate problem-solving unless they ask for it. Sometimes, they just need to be heard.\\n*   **Practice Fair Fighting:** Conflicts are inevitable. Focus on the problem, not on attacking your partner. Avoid name-calling, yelling, bringing up past unrelated issues, or stonewalling. Seek to understand, compromise, and find solutions together.\\n\\n### 2. Show Appreciation and Validation\\n\\n*   **Express Gratitude Regularly:** Don\\'t take them for granted. Thank them for the big things and the small things – making dinner, listening to you, doing chores, supporting your dreams. Be specific. (\"Thank you for doing the dishes, it really helped me relax tonight.\")\\n*   **Offer Words of Affirmation:** Tell them what you love about them, what you admire, how proud you are of them. Compliment their qualities, efforts, and appearance.\\n*   **Acknowledge Their Efforts:** Even if something doesn\\'t go perfectly, acknowledge that they tried. \"I appreciate you trying to fix that, even if it didn\\'t work out.\"\\n*   **Validate Their Experiences:** Let them know their feelings are legitimate and understood, even if you see things differently. \"It makes sense that you\\'d be stressed about that.\"\\n\\n### 3. Prioritize Quality Time and Shared Experiences\\n\\n*   **Be Present:** When you\\'re together, put away distractions (phones, TV). Give them your full attention.\\n*   **Schedule Dedicated Time:** Life gets busy. Make dates – whether it\\'s a fancy dinner out, a walk in the park, or just an hour on the couch talking after the kids are asleep.\\n*   **Engage in Shared Activities:** Find hobbies or interests you can enjoy together. It could be cooking, hiking, watching a specific show, or playing games.\\n*   **Create New Memories:** Plan adventures, big or small. Novelty and shared experiences strengthen bonds.\\n*   **Do the \"Small Things\":** Make their coffee, run an errand for them, surprise them with their favorite snack. These little acts of service can mean the world.\\n\\n### 4. Provide Support and Encouragement\\n\\n*   **Be Their Biggest Cheerleader:** Support their dreams, goals, and passions, even if they don\\'t directly involve you. Encourage them to pursue what makes them happy.\\n*   **Be a Safe Haven:** When they\\'re struggling, be the person they can lean on. Offer comfort, understanding, and a listening ear without immediately trying to \"fix\" things unless asked.\\n*   **Respect Their Individuality and Space:** Understand they have their own friends, hobbies, and needs for alone time. Encourage their personal growth and give them the space to pursue it.\\n*   **Trust and Reliability:** Be consistent in your actions and words. Follow through on your promises. Trust is the bedrock of happiness in a relationship.\\n\\n### 5. Cultivate Affection and Intimacy\\n\\n*   **Physical Touch (Beyond Sex):** Hugs, hand-holding, cuddling on the couch, a reassuring touch on the arm – these non-sexual forms of physical affection are vital for connection and security.\\n*   **Emotional Intimacy:** Share your vulnerabilities, fears, and deepest thoughts with them. Allow them to see the real you, and encourage them to do the same.\\n*   **Sexual Intimacy:** If this is a part of your relationship, ensure it\\'s mutually satisfying and a space of connection, not obligation. Communicate desires and boundaries openly.\\n*   **Thoughtful Gestures:** Leave a loving note, bring them flowers for no reason, surprise them with something small they\\'ve been wanting.\\n\\n---\\n\\n## Important Considerations:\\n\\n*   **Your Own Happiness Matters:** You cannot pour from an empty cup. Take care of your own well-being. A happy you contributes to a happy partnership.\\n*   **It\\'s a Continuous Journey:** Relationships evolve. What made them happy last year might be different this year. Keep communicating, keep observing, and keep adapting.\\n*   **Don\\'t Try to \"Fix\" Them:** Your job isn\\'t to make them happy *all the time* or to fix all their problems. Your job is to support them, love them, and be a positive force in their life. Happiness comes from within, and your role is to create an environment where their happiness can flourish.\\n\\nBy focusing on these areas, you\\'ll not only be making your partner happier but also building a stronger, more resilient, and deeply fulfilling relationship for both of you.'}\n"
     ]
    }
   ],
   "source": [
    "tool_node = ToolNode(tools)\n",
    "AI_message = AIMessage(\n",
    "            content=\"\",\n",
    "            tool_calls=[\n",
    "                {\n",
    "                    \"name\": \"relationship_agent\",\n",
    "                    \"args\": {\"question\": \"can you tell me how to make my partner happy?\"},\n",
    "                    \"id\": \"tool_call_id_1\",\n",
    "                    \"type\": \"tool_call_1\",\n",
    "                }\n",
    "            ]\n",
    "            \n",
    "        )\n",
    "\n",
    "result = await tool_node.ainvoke({\"messages\": [AI_message]})\n",
    "print(result[\"messages\"][-1].content)"
   ]
  },
  {
   "cell_type": "code",
   "execution_count": 9,
   "id": "a1817270",
   "metadata": {},
   "outputs": [],
   "source": [
    "from src.agent.general_toolcalling_agent import GeneralAgentGraph\n",
    "from langchain_core.messages import HumanMessage\n",
    "agent_graph = GeneralAgentGraph(tools)\n",
    "general_agent = agent_graph.get_graph()\n",
    "\n"
   ]
  },
  {
   "cell_type": "code",
   "execution_count": 12,
   "id": "d36a4fb8",
   "metadata": {},
   "outputs": [],
   "source": [
    "result = general_agent.invoke({\"messages\": [HumanMessage(content=\"do you have access to any expert tool?\")]})\n"
   ]
  },
  {
   "cell_type": "code",
   "execution_count": 17,
   "id": "027475d0",
   "metadata": {},
   "outputs": [
    {
     "name": "stdout",
     "output_type": "stream",
     "text": [
      "==================================\u001b[1m Ai Message \u001b[0m==================================\n",
      "\n",
      "Yes, I have access to a relationship agent tool. It can help in solving relationship problems.\n"
     ]
    }
   ],
   "source": [
    "result[\"messages\"][-1].pretty_print()"
   ]
  },
  {
   "cell_type": "code",
   "execution_count": 44,
   "id": "6dbf63c1",
   "metadata": {},
   "outputs": [],
   "source": [
    "result = await general_agent.ainvoke({\"messages\": [HumanMessage(content=\"How should I make my girlfriend happy as I do not get time for her?\")]})\n"
   ]
  },
  {
   "cell_type": "code",
   "execution_count": 45,
   "id": "af559b23",
   "metadata": {},
   "outputs": [
    {
     "name": "stdout",
     "output_type": "stream",
     "text": [
      "================================\u001b[1m Human Message \u001b[0m=================================\n",
      "\n",
      "How should I make my girlfriend happy as I do not get time for her?\n",
      "==================================\u001b[1m Ai Message \u001b[0m==================================\n",
      "Tool Calls:\n",
      "  relationship_agent (8f7710c7-889a-4add-8604-00341149d9e1)\n",
      " Call ID: 8f7710c7-889a-4add-8604-00341149d9e1\n",
      "  Args:\n",
      "    question: How should I make my girlfriend happy as I do not get time for her?\n",
      "=================================\u001b[1m Tool Message \u001b[0m=================================\n",
      "Name: relationship_agent\n",
      "\n",
      "{'answer': 'It\\'s incredibly thoughtful of you to be asking this question. Many people struggle with balancing demanding schedules and nurturing their relationships. The good news is that making your girlfriend feel loved and happy isn\\'t always about the *quantity* of time, but the *quality* and *intentionality* of your efforts.\\n\\nHere\\'s how you can make your girlfriend happy, even when time is scarce:\\n\\n**1. Communicate Openly and Honestly:**\\n*   **Explain Your Situation:** Don\\'t just disappear. Let her know *why* you\\'re busy. \"Hey, I\\'ve got a really demanding week coming up with X project, and I might be less available. But I\\'m thinking of you and I\\'ll make sure to carve out time for us when I can.\" This manages expectations and prevents her from feeling neglected or guessing.\\n*   **Acknowledge Her Feelings:** If she expresses sadness or frustration about your lack of time, validate her feelings. \"I know it\\'s tough when I\\'m so busy, and I understand you miss spending time together. I miss it too.\"\\n*   **Reassure Her:** Reiterate your commitment and love. Let her know she\\'s still a priority, even if your schedule doesn\\'t always reflect it perfectly.\\n\\n**2. Maximize the Little Moments (Quality over Quantity):**\\n*   **Intentional Check-ins:** A quick, heartfelt text in the morning (\"Thinking of you, hope you have a great day!\") or evening (\"Long day, but you\\'re on my mind. Can\\'t wait to see you soon.\") can make a huge difference. A quick phone call during your commute or lunch break can be more impactful than a longer, distracted one.\\n*   **Dedicated \"Micro-Dates\":** Can you spare 15-30 minutes for a focused, undivided conversation? Sit down, make eye contact, put your phone away, and truly listen to her day. This concentrated attention is incredibly valuable.\\n*   **Shared Activities (Even Remote):** If you\\'re both busy, maybe you can watch the same show on Netflix simultaneously and text about it, or play a quick online game together.\\n*   **Thoughtful Surprises:** Send her flowers, order her favorite coffee to be delivered to her work, or leave a sweet note for her to find. These small gestures show you\\'re thinking of her even when you\\'re not physically present.\\n\\n**3. Leverage Her Love Language:**\\n*   **Words of Affirmation:** Send spontaneous \"I love you\" texts, compliment her, tell her what you appreciate about her.\\n*   **Acts of Service:** If you know she\\'s stressed, can you order her dinner, or arrange for something to be done that would ease her burden (e.g., grocery delivery)? Even if you\\'re not there, you can still facilitate help.\\n*   **Receiving Gifts:** It doesn\\'t have to be expensive. A small thoughtful gift that shows you know her well (her favorite candy, a new book by an author she likes) can speak volumes.\\n*   **Physical Touch:** When you *do* see her, make sure to be physically affectionate – hold her hand, give her a long hug, cuddle on the couch. Make those moments count.\\n*   **Quality Time:** Even if it\\'s brief, make the time you *do* spend together truly focused and present.\\n\\n**4. Plan Ahead and Prioritize:**\\n*   **Schedule Dates:** Look at your calendar and block out time for her. Treat these dates as non-negotiable appointments. Even if it\\'s just one evening a week or a few hours on a weekend, commit to it.\\n*   **\"Future Pacing\":** Give her something to look forward to. \"I know this week is crazy, but let\\'s plan a special dinner next Saturday\" or \"Once X project is over, I want to take you on that hike you mentioned.\"\\n*   **Involve Her in Your \"Busy\" Life (If Appropriate):** Sometimes, if you *have* to work, could she join you for a coffee break, or sit nearby while you work and then you can grab a quick meal together? This isn\\'t ideal for quality time, but it allows for proximity.\\n\\n**5. Be Present When You Are Together:**\\n*   When you do get time, even if it\\'s short, be *fully* present. Put your phone away, turn off distractions, and give her your undivided attention. Listen actively, engage in conversation, and make her feel like she\\'s the most important person in the world during that time.\\n\\n**6. Don\\'t Forget Yourself:**\\n*   While it\\'s important to make her happy, don\\'t burn yourself out trying to be everything to everyone. A stressed, exhausted partner isn\\'t good for anyone. Make sure you\\'re also getting enough rest and managing your own stress.\\n\\nThe key is to show her consistently, through small, intentional actions, that she is loved, valued, and a priority in your life, even when your schedule makes it challenging.'}\n",
      "==================================\u001b[1m Ai Message \u001b[0m==================================\n",
      "\n",
      "It's understandable that you're concerned about making your girlfriend happy when you have limited time. Here's some advice:\n",
      "\n",
      "*   **Communicate openly:** Talk to her about your schedule and how it impacts your time together. Acknowledge her feelings and reassure her that she's a priority.\n",
      "*   **Quality over quantity:** Make the most of the time you do have together. Be present and engaged, and focus on activities you both enjoy.\n",
      "*   **Small gestures:** Little things can go a long way. Send her a thoughtful text, leave her a sweet note, or surprise her with a small gift.\n",
      "*   **Plan ahead:** Schedule dates in advance so you both have something to look forward to.\n",
      "*   **Be creative:** Find ways to connect even when you're apart, such as watching a movie together online or playing a virtual game.\n",
      "\n",
      "I hope this helps!\n"
     ]
    }
   ],
   "source": [
    "for res in result[\"messages\"]:\n",
    "    res.pretty_print()"
   ]
  },
  {
   "cell_type": "code",
   "execution_count": 46,
   "id": "6aa2be23",
   "metadata": {},
   "outputs": [
    {
     "data": {
      "text/plain": [
       "{'messages': [HumanMessage(content='How should I make my girlfriend happy as I do not get time for her?', additional_kwargs={}, response_metadata={}, id='778a93d4-822a-47e6-9bfc-1cdbba2db3ea'),\n",
       "  AIMessage(content='', additional_kwargs={'function_call': {'name': 'relationship_agent', 'arguments': '{\"question\": \"How should I make my girlfriend happy as I do not get time for her?\"}'}}, response_metadata={'prompt_feedback': {'block_reason': 0, 'safety_ratings': []}, 'finish_reason': 'STOP', 'model_name': 'gemini-2.0-flash', 'safety_ratings': []}, id='run--c1d7c38b-117a-44a4-89b0-23622e0ae401-0', tool_calls=[{'name': 'relationship_agent', 'args': {'question': 'How should I make my girlfriend happy as I do not get time for her?'}, 'id': 'd9bb6623-317f-44f1-80f5-c9be61e425f2', 'type': 'tool_call'}], usage_metadata={'input_tokens': 53, 'output_tokens': 20, 'total_tokens': 73, 'input_token_details': {'cache_read': 0}}),\n",
       "  ToolMessage(content=\"Error: NotImplementedError('StructuredTool does not support sync invocation.')\\n Please fix your mistakes.\", name='relationship_agent', id='c8932459-9df1-46a4-a70a-28fe6ce9794f', tool_call_id='d9bb6623-317f-44f1-80f5-c9be61e425f2', status='error'),\n",
       "  AIMessage(content='I am sorry, I cannot provide an answer to your question using the available tools.', additional_kwargs={}, response_metadata={'prompt_feedback': {'block_reason': 0, 'safety_ratings': []}, 'finish_reason': 'STOP', 'model_name': 'gemini-2.0-flash', 'safety_ratings': []}, id='run--2d3974ad-c552-4c6e-a704-7fcfaff63f53-0', usage_metadata={'input_tokens': 96, 'output_tokens': 18, 'total_tokens': 114, 'input_token_details': {'cache_read': 0}})]}"
      ]
     },
     "execution_count": 46,
     "metadata": {},
     "output_type": "execute_result"
    }
   ],
   "source": [
    "general_agent.invoke({\"messages\": [HumanMessage(content=\"How should I make my girlfriend happy as I do not get time for her?\")]})\n"
   ]
  },
  {
   "cell_type": "code",
   "execution_count": 41,
   "id": "e526a07c",
   "metadata": {},
   "outputs": [],
   "source": [
    "# from langchain_core.messages import BaseMessage\n",
    "\n",
    "# for chunk in general_agent.stream(\n",
    "#     {\"messages\": [HumanMessage(content=\"How should I make my girlfriend happy as I do not get time for her?\")]},\n",
    "#     stream_mode=\"updates\"\n",
    "# ):\n",
    "#     for step_name, step_output in chunk.items():\n",
    "#         messages = step_output.get(\"messages\")\n",
    "#         if isinstance(messages, list):\n",
    "#             for message in messages:\n",
    "#                 if isinstance(message, BaseMessage):\n",
    "#                     message.pretty_print()\n",
    "#                 else:\n",
    "#                     print(f\"[{step_name}] {message}\")  # fallback for ToolMessage or error strings\n",
    "#         else:\n",
    "#             # If it's not a list (e.g., a single AIMessage)\n",
    "#             if isinstance(step_output, dict):\n",
    "#                 message = step_output.get(\"messages\")\n",
    "#                 if isinstance(message, BaseMessage):\n",
    "#                     message.pretty_print()\n"
   ]
  },
  {
   "cell_type": "code",
   "execution_count": null,
   "id": "c78a6769",
   "metadata": {},
   "outputs": [],
   "source": []
  }
 ],
 "metadata": {
  "kernelspec": {
   "display_name": ".venv",
   "language": "python",
   "name": "python3"
  },
  "language_info": {
   "codemirror_mode": {
    "name": "ipython",
    "version": 3
   },
   "file_extension": ".py",
   "mimetype": "text/x-python",
   "name": "python",
   "nbconvert_exporter": "python",
   "pygments_lexer": "ipython3",
   "version": "3.13.3"
  }
 },
 "nbformat": 4,
 "nbformat_minor": 5
}
